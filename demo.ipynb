{
 "cells": [
  {
   "cell_type": "code",
   "execution_count": null,
   "metadata": {},
   "outputs": [],
   "source": [
    "import pandas as pd\n",
    "import numpy as np\n",
    "import matplotlib.pyplot as plt\n",
    "import folium\n",
    "import sklearn\n",
    "import plotly\n",
    "from folium import plugins\n",
    "import plotly.express as px\n",
    "import scipy"
   ]
  },
  {
   "cell_type": "code",
   "execution_count": null,
   "metadata": {},
   "outputs": [],
   "source": [
    "time_series_confirmed_global_JHU = pd.read_csv(\"./data/time_series_covid19_confirmed_global.csv\")\n",
    "time_series_confirmed_global = pd.read_csv('./data/owid-covid-data.csv')\n",
    "time_series_confirmed_global_JHU =  time_series_confirmed_global_JHU.drop(index=[42,43,53,89,106,175,281])\n",
    "time_series_confirmed_US_JHU = pd.read_csv('./data/time_series_covid19_confirmed_US.csv')\n",
    "#TODO visualize the confirmed cases in the world\n",
    "fig_global = px.line(time_series_confirmed_global,line_group= 'location' , x= 'date', y='new_cases_smoothed',color_discrete_sequence= px.colors.qualitative.D3,color=\"location\", title=\"New cases in the world\")\n",
    "fig_global.show()\n",
    "map = folium.Map( location=[0,0], zoom_start=2)\n",
    "\n",
    "disdataUS = time_series_confirmed_US_JHU.loc[:,['Province_State','Admin2','Lat','Long_','7/5/22'] ]\n",
    "\n",
    "\n",
    "disdata = time_series_confirmed_global_JHU.loc[:,['Country/Region','Province/State','Long','Lat','7/5/22']]\n",
    "\n",
    "\n",
    "incidents = plugins.MarkerCluster().add_to(map)\n",
    "for country ,province,lat, long, number in zip(disdata['Country/Region'],disdata['Province/State'],disdata['Lat'],disdata['Long'],disdata['7/5/22']):\n",
    "    folium.Marker([lat, long], popup=(str(country) +'-'+ (str(province)) + '-' +str(number))).add_to(incidents)\n",
    "map.add_child(incidents)\n",
    "\n",
    "incidents = plugins.MarkerCluster().add_to(map)\n",
    "for province,city,lat, long, number in zip(disdataUS['Province_State'],disdataUS['Admin2'],disdataUS['Lat'],disdataUS['Long_'],disdataUS['7/5/22']):\n",
    "    folium.Marker([lat, long], popup=('US' +'-'+ (str(province)) +'-'+ str(city) +  '-' +str(number))).add_to(incidents)\n",
    "map.add_child(incidents)\n",
    "\n",
    "map.save('./result/map.html')\n",
    "plotly.offline.plot(fig_global, filename='./result/plotly_global.html')\n",
    "\n",
    "#TODO 将map上的markcluster点标记显示为确诊总数，而非标记点个数"
   ]
  }
 ],
 "metadata": {
  "kernelspec": {
   "display_name": "Python 3.9.12 ('Pytorch')",
   "language": "python",
   "name": "python3"
  },
  "language_info": {
   "codemirror_mode": {
    "name": "ipython",
    "version": 3
   },
   "file_extension": ".py",
   "mimetype": "text/x-python",
   "name": "python",
   "nbconvert_exporter": "python",
   "pygments_lexer": "ipython3",
   "version": "3.9.12"
  },
  "orig_nbformat": 4,
  "vscode": {
   "interpreter": {
    "hash": "d51350827a9459483f934a2e4486d8de58217f4e59d3f4a37c609ba2fd830eef"
   }
  }
 },
 "nbformat": 4,
 "nbformat_minor": 2
}
